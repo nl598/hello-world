{
 "cells": [
  {
   "cell_type": "code",
   "execution_count": 1,
   "id": "80bc1249",
   "metadata": {},
   "outputs": [
    {
     "name": "stdout",
     "output_type": "stream",
     "text": [
      "Type a word and get its Pig Latin translation: dude\n"
     ]
    },
    {
     "name": "stderr",
     "output_type": "stream",
     "text": [
      "udeday\n"
     ]
    },
    {
     "name": "stdout",
     "output_type": "stream",
     "text": [
      "\n",
      "\n",
      "\n",
      "Try again? (Press Enter else n to stop)\n",
      " aie\n",
      "Type a word and get its Pig Latin translation: eye\n"
     ]
    },
    {
     "name": "stderr",
     "output_type": "stream",
     "text": [
      "eyeway\n"
     ]
    },
    {
     "name": "stdout",
     "output_type": "stream",
     "text": [
      "\n",
      "\n",
      "\n",
      "Try again? (Press Enter else n to stop)\n",
      " \n",
      "Type a word and get its Pig Latin translation: n\n"
     ]
    },
    {
     "name": "stderr",
     "output_type": "stream",
     "text": [
      "nay\n"
     ]
    },
    {
     "name": "stdout",
     "output_type": "stream",
     "text": [
      "\n",
      "\n",
      "\n",
      "Try again? (Press Enter else n to stop)\n",
      " n\n"
     ]
    },
    {
     "ename": "SystemExit",
     "evalue": "",
     "output_type": "error",
     "traceback": [
      "An exception has occurred, use %tb to see the full traceback.\n",
      "\u001b[1;31mSystemExit\u001b[0m\n"
     ]
    },
    {
     "name": "stderr",
     "output_type": "stream",
     "text": [
      "C:\\Users\\User\\anaconda3\\lib\\site-packages\\IPython\\core\\interactiveshell.py:3452: UserWarning: To exit: use 'exit', 'quit', or Ctrl-D.\n",
      "  warn(\"To exit: use 'exit', 'quit', or Ctrl-D.\", stacklevel=1)\n"
     ]
    }
   ],
   "source": [
    "\"\"\"Turn a word into its Pig Latin equivalent.\"\"\"\n",
    "import sys\n",
    "\n",
    "VOWELS = 'aeiouy'\n",
    "\n",
    "while True:\n",
    "    word = input(\"Type a word and get its Pig Latin translation: \")\n",
    "    \n",
    "    if word[0] in VOWELS:\n",
    "        pig_Latin = word + 'way'\n",
    "    else:\n",
    "        pig_Latin = word[1:] + word[0] + 'ay'\n",
    "    print()\n",
    "    print(\"{}\".format(pig_Latin), file=sys.stderr)\n",
    "    \n",
    "    try_again = input(\"\\n\\nTry again? (Press Enter else n to stop)\\n \")\n",
    "    if try_again.lower() == \"n\":\n",
    "        sys.exit()"
   ]
  },
  {
   "cell_type": "code",
   "execution_count": null,
   "id": "313ec300",
   "metadata": {},
   "outputs": [],
   "source": []
  }
 ],
 "metadata": {
  "kernelspec": {
   "display_name": "Python 3 (ipykernel)",
   "language": "python",
   "name": "python3"
  },
  "language_info": {
   "codemirror_mode": {
    "name": "ipython",
    "version": 3
   },
   "file_extension": ".py",
   "mimetype": "text/x-python",
   "name": "python",
   "nbconvert_exporter": "python",
   "pygments_lexer": "ipython3",
   "version": "3.9.7"
  }
 },
 "nbformat": 4,
 "nbformat_minor": 5
}
