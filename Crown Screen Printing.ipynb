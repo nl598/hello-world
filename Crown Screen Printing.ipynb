{
 "cells": [
  {
   "cell_type": "code",
   "execution_count": 18,
   "id": "489ebd81",
   "metadata": {},
   "outputs": [
    {
     "data": {
      "text/html": [
       "<h1>Crown Screen Printing</h1>"
      ],
      "text/plain": [
       "<IPython.core.display.HTML object>"
      ]
     },
     "metadata": {},
     "output_type": "display_data"
    },
    {
     "data": {
      "text/html": [
       "<p>Come to our location at 144 S Cherry Road, Rock Hill, SC, 29732</p>"
      ],
      "text/plain": [
       "<IPython.core.display.HTML object>"
      ]
     },
     "metadata": {},
     "output_type": "display_data"
    },
    {
     "data": {
      "text/html": [
       "<a><a target=\"_blank\" href=\"https://www.google.com/maps/@34.9407382,-81.0377512,19z\"</a>"
      ],
      "text/plain": [
       "<IPython.core.display.HTML object>"
      ]
     },
     "metadata": {},
     "output_type": "display_data"
    },
    {
     "data": {
      "text/html": [
       "<h3>Contact us at:</h3>"
      ],
      "text/plain": [
       "<IPython.core.display.HTML object>"
      ]
     },
     "metadata": {},
     "output_type": "display_data"
    },
    {
     "data": {
      "text/html": [
       "<li>(845)300-6293</li>"
      ],
      "text/plain": [
       "<IPython.core.display.HTML object>"
      ]
     },
     "metadata": {},
     "output_type": "display_data"
    }
   ],
   "source": [
    "from IPython.core.display import display, HTML\n",
    "from collection import defaultdict\n",
    "\n",
    "# Heading of website\n",
    "heading = display(HTML('<h1>Crown Screen Printing</h1>'))\n",
    "\n",
    "# location\n",
    "address = display(HTML(\"\"\"<p>Come to our location at 144 S Cherry Road, Rock Hill, SC, 29732</p>\"\"\"))\n",
    "location = display(HTML('<a><a target=\"_blank\" href=\"https://www.google.com/maps/@34.9407382,-81.0377512,19z\"</a>'))\n",
    "\n",
    "# Contact Us section\n",
    "contact_us = display(HTML('<h3>Contact us at:</h3>'))\n",
    "phone = display(HTML('<li>(845)300-6293</li>'))\n",
    "\n",
    "customer_numbers = {}\n"
   ]
  },
  {
   "cell_type": "code",
   "execution_count": null,
   "id": "ad71cba1",
   "metadata": {},
   "outputs": [],
   "source": []
  }
 ],
 "metadata": {
  "kernelspec": {
   "display_name": "Python 3 (ipykernel)",
   "language": "python",
   "name": "python3"
  },
  "language_info": {
   "codemirror_mode": {
    "name": "ipython",
    "version": 3
   },
   "file_extension": ".py",
   "mimetype": "text/x-python",
   "name": "python",
   "nbconvert_exporter": "python",
   "pygments_lexer": "ipython3",
   "version": "3.9.7"
  }
 },
 "nbformat": 4,
 "nbformat_minor": 5
}
