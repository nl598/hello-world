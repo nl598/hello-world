{
 "cells": [
  {
   "cell_type": "code",
   "execution_count": 1,
   "id": "fc1d422f",
   "metadata": {},
   "outputs": [
    {
     "name": "stdout",
     "output_type": "stream",
     "text": [
      "['a', 'nurses', 'i', 'stack', 'cat']\n"
     ]
    }
   ],
   "source": [
    "\"\"\"Remove single-letter words from list if not 'a' or 'i'.\"\"\"\n",
    "word_list = ['a', 'nurses', 'i', 'stack', 'b', 'c', 'cat']\n",
    "word_list_clean = []\n",
    "\n",
    "permissible = ('a', 'i')\n",
    "\n",
    "for word in word_list:\n",
    "    if len(word) > 1:\n",
    "        word_list_clean.append(word)\n",
    "    elif len(word) == 1 and word in permissible:\n",
    "        word_list_clean.append(word)\n",
    "    else:\n",
    "        continue\n",
    "        \n",
    "print(\"{}\".format(word_list_clean))"
   ]
  },
  {
   "cell_type": "code",
   "execution_count": null,
   "id": "e2ce4675",
   "metadata": {},
   "outputs": [],
   "source": []
  }
 ],
 "metadata": {
  "kernelspec": {
   "display_name": "Python 3 (ipykernel)",
   "language": "python",
   "name": "python3"
  },
  "language_info": {
   "codemirror_mode": {
    "name": "ipython",
    "version": 3
   },
   "file_extension": ".py",
   "mimetype": "text/x-python",
   "name": "python",
   "nbconvert_exporter": "python",
   "pygments_lexer": "ipython3",
   "version": "3.9.7"
  }
 },
 "nbformat": 4,
 "nbformat_minor": 5
}
