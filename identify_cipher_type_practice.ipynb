{
 "cells": [
  {
   "cell_type": "code",
   "execution_count": 3,
   "id": "85549253",
   "metadata": {},
   "outputs": [
    {
     "name": "stdout",
     "output_type": "stream",
     "text": [
      "\n",
      "Six most-frequently-used letters in English = ETAOIN\n",
      "\n",
      "Six most frequent letters in ciphertext =\n",
      "('.', 600)\n",
      "(',', 600)\n",
      "('i', 500)\n",
      "('r', 300)\n",
      "('s', 300)\n",
      "('1', 180)\n",
      "This ciphertext most-likely produced by a SUBSTITUTION cipher\n"
     ]
    }
   ],
   "source": [
    "\"\"\"Load ciphertext & use fraction of ETAOIN present to classify cipher type.\"\"\"\n",
    "import sys\n",
    "from collections import Counter\n",
    "\n",
    "# set arbitrary cutoff fraction of 6 most common letters in English\n",
    "# ciphertext with target fraction or greater = transposition cipher\n",
    "CUTOFF = .5\n",
    "\n",
    "# load ciphertext\n",
    "def load(filename):\n",
    "    \"\"\"Open text file and return list.\"\"\"\n",
    "    with open(filename) as f:\n",
    "        return f.read().strip()\n",
    "    \n",
    "try:\n",
    "    ciphertext = load('Iris Petals.txt')\n",
    "except IOError as e:\n",
    "    print(\"{}. Terminating program.\".format(e),\n",
    "         file=sys.stderr)\n",
    "    sys.exit(1)\n",
    "    \n",
    "# count 6 most common letters in ciphertext\n",
    "six_most_frequent = Counter(ciphertext.lower()).most_common(6)\n",
    "print(\"\\nSix most-frequently-used letters in English = ETAOIN\")\n",
    "print('\\nSix most frequent letters in ciphertext =')\n",
    "print(*six_most_frequent, sep='\\n')\n",
    "\n",
    "# convert list of tuples to set of letters for comparison\n",
    "cipher_top_6 = {i[0] for i in six_most_frequent}\n",
    "\n",
    "TARGET = 'etaoin'\n",
    "count = 0\n",
    "for letter in TARGET:\n",
    "    if letter in cipher_top_6:\n",
    "        count += 1\n",
    "if count/len(TARGET) >= CUTOFF:\n",
    "    print(\"\\nThis ciphertext most-likely produced by a TRANSPOSITION cipher\")\n",
    "else:\n",
    "    print(\"This ciphertext most-likely produced by a SUBSTITUTION cipher\")"
   ]
  },
  {
   "cell_type": "code",
   "execution_count": null,
   "id": "110cf522",
   "metadata": {},
   "outputs": [],
   "source": []
  }
 ],
 "metadata": {
  "kernelspec": {
   "display_name": "Python 3 (ipykernel)",
   "language": "python",
   "name": "python3"
  },
  "language_info": {
   "codemirror_mode": {
    "name": "ipython",
    "version": 3
   },
   "file_extension": ".py",
   "mimetype": "text/x-python",
   "name": "python",
   "nbconvert_exporter": "python",
   "pygments_lexer": "ipython3",
   "version": "3.9.7"
  }
 },
 "nbformat": 4,
 "nbformat_minor": 5
}
