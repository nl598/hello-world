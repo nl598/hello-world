{
 "cells": [
  {
   "cell_type": "code",
   "execution_count": 1,
   "id": "6bc37a51",
   "metadata": {},
   "outputs": [
    {
     "ename": "ModuleNotFoundError",
     "evalue": "No module named 'load_dictionary'",
     "output_type": "error",
     "traceback": [
      "\u001b[1;31m---------------------------------------------------------------------------\u001b[0m",
      "\u001b[1;31mModuleNotFoundError\u001b[0m                       Traceback (most recent call last)",
      "\u001b[1;32m~\\AppData\\Local\\Temp/ipykernel_14548/4043872292.py\u001b[0m in \u001b[0;36m<module>\u001b[1;34m\u001b[0m\n\u001b[0;32m      5\u001b[0m \u001b[1;32mfrom\u001b[0m \u001b[0mcollections\u001b[0m \u001b[1;32mimport\u001b[0m \u001b[0mdefaultdict\u001b[0m\u001b[1;33m\u001b[0m\u001b[1;33m\u001b[0m\u001b[0m\n\u001b[0;32m      6\u001b[0m \u001b[1;32mfrom\u001b[0m \u001b[0mitertools\u001b[0m \u001b[1;32mimport\u001b[0m \u001b[0mpermutations\u001b[0m\u001b[1;33m\u001b[0m\u001b[1;33m\u001b[0m\u001b[0m\n\u001b[1;32m----> 7\u001b[1;33m \u001b[1;32mimport\u001b[0m \u001b[0mload_dictionary\u001b[0m\u001b[1;33m\u001b[0m\u001b[1;33m\u001b[0m\u001b[0m\n\u001b[0m\u001b[0;32m      8\u001b[0m \u001b[1;33m\u001b[0m\u001b[0m\n\u001b[0;32m      9\u001b[0m \u001b[0mword_list\u001b[0m \u001b[1;33m=\u001b[0m \u001b[0mload_dictionary\u001b[0m\u001b[1;33m.\u001b[0m\u001b[0mload\u001b[0m\u001b[1;33m(\u001b[0m\u001b[1;34m'2of4brif.txt'\u001b[0m\u001b[1;33m)\u001b[0m\u001b[1;33m\u001b[0m\u001b[1;33m\u001b[0m\u001b[0m\n",
      "\u001b[1;31mModuleNotFoundError\u001b[0m: No module named 'load_dictionary'"
     ]
    }
   ],
   "source": [
    "\"\"\"Generate letter pairs in Voldemort & find their frequency in a dictionary.\n",
    "Requires load_dictionary.py module to load an English dictionary file.\"\"\"\n",
    "\n",
    "import re\n",
    "from collections import defaultdict\n",
    "from itertools import permutations\n",
    "import load_dictionary\n",
    "\n",
    "word_list = load_dictionary.load('2of4brif.txt')\n",
    "\n",
    "name = 'Voldemort'\n",
    "name = name.lower()\n",
    "\n",
    "# Generate unique letter pairs from name\n",
    "digrams = set()\n",
    "perms = {''.join(i) for i in permutations(name)}\n",
    "for perm in perms:\n",
    "    for i in range(0, len(perm) - 1):\n",
    "        digrams.add(perm[i] + perm[i + 1])\n",
    "print(*digrams, sep='\\n')\n",
    "print(\"\\nNumber of digrams = {}\\n\".format(len(digrams)))\n",
    "\n",
    "# Use regex (regular expressions) to find repeating digrams in a word\n",
    "mapped = defaultdict(int)\n",
    "for word in word_list:\n",
    "    word = word.lower()\n",
    "    for digram in digrams:\n",
    "        for m in re.finditer(digram, word):\n",
    "            mapped[digram] += 1\n",
    "            \n",
    "print(\"Digram frequency count:\")\n",
    "count = 0\n",
    "for k in mapped:\n",
    "    print(\"{} {}\".format(k, mapped[k]))"
   ]
  },
  {
   "cell_type": "code",
   "execution_count": null,
   "id": "55c4aa8c",
   "metadata": {},
   "outputs": [],
   "source": []
  }
 ],
 "metadata": {
  "kernelspec": {
   "display_name": "Python 3 (ipykernel)",
   "language": "python",
   "name": "python3"
  },
  "language_info": {
   "codemirror_mode": {
    "name": "ipython",
    "version": 3
   },
   "file_extension": ".py",
   "mimetype": "text/x-python",
   "name": "python",
   "nbconvert_exporter": "python",
   "pygments_lexer": "ipython3",
   "version": "3.9.7"
  }
 },
 "nbformat": 4,
 "nbformat_minor": 5
}
